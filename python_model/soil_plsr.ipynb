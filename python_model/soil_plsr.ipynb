{
 "cells": [
  {
   "cell_type": "markdown",
   "metadata": {},
   "source": [
    "### Imports and Load Data"
   ]
  },
  {
   "cell_type": "code",
   "execution_count": 1,
   "metadata": {},
   "outputs": [],
   "source": [
    "import numpy as np\n",
    "import pandas as pd"
   ]
  },
  {
   "cell_type": "code",
   "execution_count": 2,
   "metadata": {},
   "outputs": [],
   "source": [
    "data = pd.read_csv('ALL_data.csv')"
   ]
  },
  {
   "cell_type": "code",
   "execution_count": 3,
   "metadata": {},
   "outputs": [
    {
     "data": {
      "text/html": [
       "<div>\n",
       "<style scoped>\n",
       "    .dataframe tbody tr th:only-of-type {\n",
       "        vertical-align: middle;\n",
       "    }\n",
       "\n",
       "    .dataframe tbody tr th {\n",
       "        vertical-align: top;\n",
       "    }\n",
       "\n",
       "    .dataframe thead th {\n",
       "        text-align: right;\n",
       "    }\n",
       "</style>\n",
       "<table border=\"1\" class=\"dataframe\">\n",
       "  <thead>\n",
       "    <tr style=\"text-align: right;\">\n",
       "      <th></th>\n",
       "      <th>sample_id</th>\n",
       "      <th>OC</th>\n",
       "      <th>spc.X7498</th>\n",
       "      <th>spc.X7496.1</th>\n",
       "      <th>spc.X7494.2</th>\n",
       "      <th>spc.X7492.3</th>\n",
       "      <th>spc.X7490.3</th>\n",
       "      <th>spc.X7488.4</th>\n",
       "      <th>spc.X7486.5</th>\n",
       "      <th>spc.X7484.5</th>\n",
       "      <th>...</th>\n",
       "      <th>spc.X1699</th>\n",
       "      <th>spc.X1697.1</th>\n",
       "      <th>spc.X1695.2</th>\n",
       "      <th>spc.X1693.2</th>\n",
       "      <th>spc.X1691.3</th>\n",
       "      <th>spc.X1689.4</th>\n",
       "      <th>spc.X1687.4</th>\n",
       "      <th>spc.X1685.5</th>\n",
       "      <th>spc.X1683.6</th>\n",
       "      <th>spc.X1681.7</th>\n",
       "    </tr>\n",
       "  </thead>\n",
       "  <tbody>\n",
       "    <tr>\n",
       "      <th>0</th>\n",
       "      <td>228241</td>\n",
       "      <td>2.78</td>\n",
       "      <td>0.597123</td>\n",
       "      <td>0.585532</td>\n",
       "      <td>0.575420</td>\n",
       "      <td>0.577522</td>\n",
       "      <td>0.589599</td>\n",
       "      <td>0.592888</td>\n",
       "      <td>0.577229</td>\n",
       "      <td>0.560463</td>\n",
       "      <td>...</td>\n",
       "      <td>1.497683</td>\n",
       "      <td>1.511603</td>\n",
       "      <td>1.526784</td>\n",
       "      <td>1.541859</td>\n",
       "      <td>1.554136</td>\n",
       "      <td>1.565369</td>\n",
       "      <td>1.574856</td>\n",
       "      <td>1.583577</td>\n",
       "      <td>1.597430</td>\n",
       "      <td>1.613562</td>\n",
       "    </tr>\n",
       "    <tr>\n",
       "      <th>1</th>\n",
       "      <td>228242</td>\n",
       "      <td>2.82</td>\n",
       "      <td>0.574771</td>\n",
       "      <td>0.563346</td>\n",
       "      <td>0.553535</td>\n",
       "      <td>0.555874</td>\n",
       "      <td>0.568379</td>\n",
       "      <td>0.572621</td>\n",
       "      <td>0.557970</td>\n",
       "      <td>0.541848</td>\n",
       "      <td>...</td>\n",
       "      <td>1.491209</td>\n",
       "      <td>1.504699</td>\n",
       "      <td>1.519252</td>\n",
       "      <td>1.533783</td>\n",
       "      <td>1.545827</td>\n",
       "      <td>1.556991</td>\n",
       "      <td>1.566309</td>\n",
       "      <td>1.574412</td>\n",
       "      <td>1.587285</td>\n",
       "      <td>1.602902</td>\n",
       "    </tr>\n",
       "    <tr>\n",
       "      <th>2</th>\n",
       "      <td>228243</td>\n",
       "      <td>2.75</td>\n",
       "      <td>0.543495</td>\n",
       "      <td>0.532264</td>\n",
       "      <td>0.521497</td>\n",
       "      <td>0.523761</td>\n",
       "      <td>0.537179</td>\n",
       "      <td>0.541816</td>\n",
       "      <td>0.526906</td>\n",
       "      <td>0.509963</td>\n",
       "      <td>...</td>\n",
       "      <td>1.455947</td>\n",
       "      <td>1.469760</td>\n",
       "      <td>1.484671</td>\n",
       "      <td>1.499452</td>\n",
       "      <td>1.511718</td>\n",
       "      <td>1.523022</td>\n",
       "      <td>1.532564</td>\n",
       "      <td>1.541187</td>\n",
       "      <td>1.554432</td>\n",
       "      <td>1.569966</td>\n",
       "    </tr>\n",
       "    <tr>\n",
       "      <th>3</th>\n",
       "      <td>228244</td>\n",
       "      <td>2.37</td>\n",
       "      <td>0.510573</td>\n",
       "      <td>0.498010</td>\n",
       "      <td>0.487154</td>\n",
       "      <td>0.489219</td>\n",
       "      <td>0.501669</td>\n",
       "      <td>0.505493</td>\n",
       "      <td>0.490587</td>\n",
       "      <td>0.474807</td>\n",
       "      <td>...</td>\n",
       "      <td>1.496655</td>\n",
       "      <td>1.510801</td>\n",
       "      <td>1.526071</td>\n",
       "      <td>1.541353</td>\n",
       "      <td>1.554054</td>\n",
       "      <td>1.565749</td>\n",
       "      <td>1.575605</td>\n",
       "      <td>1.584386</td>\n",
       "      <td>1.597890</td>\n",
       "      <td>1.614017</td>\n",
       "    </tr>\n",
       "    <tr>\n",
       "      <th>4</th>\n",
       "      <td>228245</td>\n",
       "      <td>2.60</td>\n",
       "      <td>0.498573</td>\n",
       "      <td>0.485602</td>\n",
       "      <td>0.474588</td>\n",
       "      <td>0.477919</td>\n",
       "      <td>0.492342</td>\n",
       "      <td>0.497191</td>\n",
       "      <td>0.481731</td>\n",
       "      <td>0.464248</td>\n",
       "      <td>...</td>\n",
       "      <td>1.463118</td>\n",
       "      <td>1.476103</td>\n",
       "      <td>1.490475</td>\n",
       "      <td>1.505019</td>\n",
       "      <td>1.517131</td>\n",
       "      <td>1.528273</td>\n",
       "      <td>1.537486</td>\n",
       "      <td>1.545600</td>\n",
       "      <td>1.558462</td>\n",
       "      <td>1.573774</td>\n",
       "    </tr>\n",
       "  </tbody>\n",
       "</table>\n",
       "<p>5 rows × 2956 columns</p>\n",
       "</div>"
      ],
      "text/plain": [
       "   sample_id    OC  spc.X7498  spc.X7496.1  spc.X7494.2  spc.X7492.3  \\\n",
       "0     228241  2.78   0.597123     0.585532     0.575420     0.577522   \n",
       "1     228242  2.82   0.574771     0.563346     0.553535     0.555874   \n",
       "2     228243  2.75   0.543495     0.532264     0.521497     0.523761   \n",
       "3     228244  2.37   0.510573     0.498010     0.487154     0.489219   \n",
       "4     228245  2.60   0.498573     0.485602     0.474588     0.477919   \n",
       "\n",
       "   spc.X7490.3  spc.X7488.4  spc.X7486.5  spc.X7484.5  ...  spc.X1699  \\\n",
       "0     0.589599     0.592888     0.577229     0.560463  ...   1.497683   \n",
       "1     0.568379     0.572621     0.557970     0.541848  ...   1.491209   \n",
       "2     0.537179     0.541816     0.526906     0.509963  ...   1.455947   \n",
       "3     0.501669     0.505493     0.490587     0.474807  ...   1.496655   \n",
       "4     0.492342     0.497191     0.481731     0.464248  ...   1.463118   \n",
       "\n",
       "   spc.X1697.1  spc.X1695.2  spc.X1693.2  spc.X1691.3  spc.X1689.4  \\\n",
       "0     1.511603     1.526784     1.541859     1.554136     1.565369   \n",
       "1     1.504699     1.519252     1.533783     1.545827     1.556991   \n",
       "2     1.469760     1.484671     1.499452     1.511718     1.523022   \n",
       "3     1.510801     1.526071     1.541353     1.554054     1.565749   \n",
       "4     1.476103     1.490475     1.505019     1.517131     1.528273   \n",
       "\n",
       "   spc.X1687.4  spc.X1685.5  spc.X1683.6  spc.X1681.7  \n",
       "0     1.574856     1.583577     1.597430     1.613562  \n",
       "1     1.566309     1.574412     1.587285     1.602902  \n",
       "2     1.532564     1.541187     1.554432     1.569966  \n",
       "3     1.575605     1.584386     1.597890     1.614017  \n",
       "4     1.537486     1.545600     1.558462     1.573774  \n",
       "\n",
       "[5 rows x 2956 columns]"
      ]
     },
     "execution_count": 3,
     "metadata": {},
     "output_type": "execute_result"
    }
   ],
   "source": [
    "data.head()"
   ]
  },
  {
   "cell_type": "markdown",
   "metadata": {},
   "source": [
    "### PLSR Model"
   ]
  },
  {
   "cell_type": "code",
   "execution_count": 124,
   "metadata": {},
   "outputs": [],
   "source": [
    "from sklearn.cross_decomposition import PLSRegression\n",
    "from sklearn.model_selection import train_test_split, KFold, GridSearchCV\n",
    "from sklearn.preprocessing import StandardScaler\n",
    "from sklearn.metrics import r2_score, mean_squared_error\n",
    "\n",
    "X = data.drop(['sample_id', 'OC'], axis=1).copy().values\n",
    "y = np.sqrt(data['OC'].values)\n",
    "\n",
    "X_train, X_test, y_train, y_test = train_test_split(X, y, test_size=0.2, random_state=96819)\n",
    "\n",
    "scaler = StandardScaler()\n",
    "X_train = scaler.fit_transform(X_train)\n",
    "X_test = scaler.transform(X_test)"
   ]
  },
  {
   "cell_type": "code",
   "execution_count": 129,
   "metadata": {},
   "outputs": [
    {
     "name": "stdout",
     "output_type": "stream",
     "text": [
      "{'n_components': 26}\n"
     ]
    }
   ],
   "source": [
    "kf = KFold(n_splits=10, shuffle=True, random_state=96819)\n",
    "param_grid = {'n_components':range(20,30)}\n",
    "\n",
    "pls = PLSRegression()\n",
    "\n",
    "searcher = GridSearchCV(pls, param_grid=param_grid, cv=kf, scoring='neg_mean_squared_error')\n",
    "searcher.fit(X_train, y_train)\n",
    "best_model = searcher.best_estimator_\n",
    "print(searcher.best_params_)"
   ]
  },
  {
   "cell_type": "code",
   "execution_count": 126,
   "metadata": {},
   "outputs": [
    {
     "name": "stdout",
     "output_type": "stream",
     "text": [
      "RMSE\n",
      "0.2257637709655425\n"
     ]
    }
   ],
   "source": [
    "y_pred = best_model.predict(X_test)\n",
    "print('RMSE:')\n",
    "print(np.sqrt(mean_squared_error(y_test, y_pred)))"
   ]
  },
  {
   "cell_type": "code",
   "execution_count": 127,
   "metadata": {},
   "outputs": [
    {
     "name": "stdout",
     "output_type": "stream",
     "text": [
      "R Squared\n",
      "0.9674808771824825\n"
     ]
    }
   ],
   "source": [
    "print('R Squared:')\n",
    "print(r2_score(y_test, y_pred))"
   ]
  }
 ],
 "metadata": {
  "kernelspec": {
   "display_name": "Python 3",
   "language": "python",
   "name": "python3"
  },
  "language_info": {
   "codemirror_mode": {
    "name": "ipython",
    "version": 3
   },
   "file_extension": ".py",
   "mimetype": "text/x-python",
   "name": "python",
   "nbconvert_exporter": "python",
   "pygments_lexer": "ipython3",
   "version": "3.12.0"
  }
 },
 "nbformat": 4,
 "nbformat_minor": 2
}
